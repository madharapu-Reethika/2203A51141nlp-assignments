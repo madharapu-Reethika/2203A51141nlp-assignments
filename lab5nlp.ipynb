{
  "nbformat": 4,
  "nbformat_minor": 0,
  "metadata": {
    "colab": {
      "provenance": [],
      "authorship_tag": "ABX9TyPJ/ouRNB6w6+BcA7GTbr7J",
      "include_colab_link": true
    },
    "kernelspec": {
      "name": "python3",
      "display_name": "Python 3"
    },
    "language_info": {
      "name": "python"
    }
  },
  "cells": [
    {
      "cell_type": "markdown",
      "metadata": {
        "id": "view-in-github",
        "colab_type": "text"
      },
      "source": [
        "<a href=\"https://colab.research.google.com/github/madharapu-Reethika/nlp-assignments/blob/main/lab5nlp.ipynb\" target=\"_parent\"><img src=\"https://colab.research.google.com/assets/colab-badge.svg\" alt=\"Open In Colab\"/></a>"
      ]
    },
    {
      "cell_type": "code",
      "execution_count": null,
      "metadata": {
        "colab": {
          "base_uri": "https://localhost:8080/"
        },
        "id": "qpRfkrbFBUGe",
        "outputId": "ef8d0149-3066-494f-b41d-55d3d4625567"
      },
      "outputs": [
        {
          "output_type": "stream",
          "name": "stdout",
          "text": [
            "Requirement already satisfied: hmmlearn in /usr/local/lib/python3.10/dist-packages (0.3.2)\n",
            "Requirement already satisfied: numpy>=1.10 in /usr/local/lib/python3.10/dist-packages (from hmmlearn) (1.26.4)\n",
            "Requirement already satisfied: scikit-learn!=0.22.0,>=0.16 in /usr/local/lib/python3.10/dist-packages (from hmmlearn) (1.3.2)\n",
            "Requirement already satisfied: scipy>=0.19 in /usr/local/lib/python3.10/dist-packages (from hmmlearn) (1.13.1)\n",
            "Requirement already satisfied: joblib>=1.1.1 in /usr/local/lib/python3.10/dist-packages (from scikit-learn!=0.22.0,>=0.16->hmmlearn) (1.4.2)\n",
            "Requirement already satisfied: threadpoolctl>=2.0.0 in /usr/local/lib/python3.10/dist-packages (from scikit-learn!=0.22.0,>=0.16->hmmlearn) (3.5.0)\n"
          ]
        }
      ],
      "source": [
        "!pip install hmmlearn\n",
        "import numpy as np\n",
        "from hmmlearn import hmm"
      ]
    },
    {
      "cell_type": "code",
      "source": [
        "\n",
        "states = [\"Sunny\", \"Rainy\"]\n",
        "n_states = len(states)\n",
        "observations = [\"Dry\", \"Damp\", \"Wet\"]\n",
        "n_observations = len(observations)\n",
        "\n",
        "transition_prob = np.array([\n",
        "    [0.7, 0.3],\n",
        "    [0.4, 0.6]\n",
        "])"
      ],
      "metadata": {
        "id": "cLaUhzwsCGUb"
      },
      "execution_count": null,
      "outputs": []
    },
    {
      "cell_type": "code",
      "source": [
        "\n",
        "emission_prob = np.array([\n",
        "    [0.8, 0.15, 0.05],\n",
        "    [0.1, 0.35, 0.55]\n",
        "])\n",
        "start_prob = np.array([0.6, 0.4])  # Sunny, Rainy\n",
        "model = hmm.MultinomialHMM(n_components=n_states)\n",
        "model.startprob_ = start_prob\n",
        "model.transmat_ = transition_prob\n",
        "model.emissionprob_ = emission_prob\n",
        "observation_sequence = np.array([0, 1, 2, 0, 1]).reshape(-1, 1)\n",
        "print(\"Observation sequence:\", [observations[i[0]] for i in observation_sequence])\n",
        "new_observation_sequence = np.array([2, 2, 1, 0]).reshape(-1, 1)\n",
        "print(\"New Observation sequence:\", [observations[i[0]] for i in new_observation_sequence])"
      ],
      "metadata": {
        "colab": {
          "base_uri": "https://localhost:8080/"
        },
        "id": "-h0ek5yJCMI7",
        "outputId": "54ace0ea-cb77-4a0f-83a4-f1cbb7816119"
      },
      "execution_count": null,
      "outputs": [
        {
          "output_type": "stream",
          "name": "stderr",
          "text": [
            "WARNING:hmmlearn.hmm:MultinomialHMM has undergone major changes. The previous version was implementing a CategoricalHMM (a special case of MultinomialHMM). This new implementation follows the standard definition for a Multinomial distribution (e.g. as in https://en.wikipedia.org/wiki/Multinomial_distribution). See these issues for details:\n",
            "https://github.com/hmmlearn/hmmlearn/issues/335\n",
            "https://github.com/hmmlearn/hmmlearn/issues/340\n"
          ]
        },
        {
          "output_type": "stream",
          "name": "stdout",
          "text": [
            "Observation sequence: ['Dry', 'Damp', 'Wet', 'Dry', 'Damp']\n",
            "New Observation sequence: ['Wet', 'Wet', 'Damp', 'Dry']\n"
          ]
        }
      ]
    },
    {
      "cell_type": "code",
      "source": [
        "import numpy as np\n",
        "states = ['Sunny', 'Rainy']\n",
        "observations = ['Dry', 'Damp', 'Wet']\n",
        "state_map = {state: i for i, state in enumerate(states)}\n",
        "obs_map = {obs: i for i, obs in enumerate(observations)}\n",
        "initial_probs = np.array([0.6, 0.4])\n",
        "transition_probs = np.array([\n",
        "    [0.7, 0.3],\n",
        "    [0.4, 0.6] ,\n",
        "])\n",
        "emission_probs = np.array([\n",
        "    [0.8, 0.15, 0.05],\n",
        "    [0.2, 0.4, 0.4]\n",
        "])\n",
        "obs_sequence = ['Dry', 'Damp', 'Wet']\n",
        "obs_indices = [obs_map[obs] for obs in obs_sequence]\n",
        "def viterbi(obs_indices, states, initial_probs, transition_probs, emission_probs):\n",
        "    num_obs = len(obs_indices)\n",
        "    num_states = len(states)\n",
        "    dp = np.zeros((num_states, num_obs))\n",
        "    backtrack = np.zeros((num_states, num_obs), dtype=int)\n",
        "    for i in range(num_states):\n",
        "        dp[i, 0] = initial_probs[i] * emission_probs[i, obs_indices[0]]\n",
        "        backtrack[i, 0] = 0\n",
        "    for t in range(1, num_obs):\n",
        "        for s in range(num_states):\n",
        "            probabilities = dp[:, t-1] * transition_probs[:, s] * emission_probs[s, obs_indices[t]]\n",
        "            dp[s, t] = np.max(probabilities)\n",
        "            backtrack[s, t] = np.argmax(probabilities)\n",
        "    last_state = np.argmax(dp[:, -1])\n",
        "    best_path = [last_state]\n",
        "    for t in range(num_obs - 1, 0, -1):\n",
        "        last_state = backtrack[last_state, t]\n",
        "        best_path.insert(0, last_state)\n",
        "    return [states[state] for state in best_path], dp\n",
        "best_path, dp_table = viterbi(obs_indices, states, initial_probs, transition_probs, emission_probs)\n",
        "print(f\"Most likely weather sequence: {best_path}\")\n"
      ],
      "metadata": {
        "colab": {
          "base_uri": "https://localhost:8080/"
        },
        "id": "xlutYFDnDcha",
        "outputId": "e0a71f13-aa9b-4c53-8bb0-0209c66a5b3e"
      },
      "execution_count": null,
      "outputs": [
        {
          "output_type": "stream",
          "name": "stdout",
          "text": [
            "Most likely weather sequence: ['Sunny', 'Rainy', 'Rainy']\n"
          ]
        }
      ]
    }
  ]
}